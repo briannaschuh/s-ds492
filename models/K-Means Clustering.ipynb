{
 "cells": [
  {
   "cell_type": "markdown",
   "id": "1942e74d",
   "metadata": {},
   "source": [
    "# K-Means Clustering"
   ]
  },
  {
   "cell_type": "markdown",
   "id": "5a5a572a",
   "metadata": {},
   "source": [
    "Load the libraries."
   ]
  },
  {
   "cell_type": "code",
   "execution_count": null,
   "id": "e5b96545",
   "metadata": {},
   "outputs": [],
   "source": [
    "import pandas as pd\n",
    "from sklearn.cluster import KMeans\n",
    "from sklearn.preprocessing import StandardScaler\n",
    "from sklearn.model_selection import train_test_split\n",
    "from imblearn.under_sampling import RandomUnderSampler\n",
    "from imblearn.over_sampling import SMOTE\n",
    "import matplotlib.pyplot as plt\n",
    "import numpy as np\n",
    "import seaborn as sns\n",
    "from sklearn.metrics import adjusted_rand_score, normalized_mutual_info_score, adjusted_mutual_info_score, confusion_matrix\n",
    "from sklearn.metrics import silhouette_score, davies_bouldin_score"
   ]
  },
  {
   "cell_type": "markdown",
   "id": "e5b0dea3",
   "metadata": {},
   "source": [
    "Read the data."
   ]
  },
  {
   "cell_type": "code",
   "execution_count": null,
   "id": "b2e35e65",
   "metadata": {},
   "outputs": [],
   "source": [
    "data = pd.read_csv(\"data/000webhost_subset_classifed_featureExtracted.csv\", error_bad_lines=False)"
   ]
  },
  {
   "cell_type": "markdown",
   "id": "33e59f4c",
   "metadata": {},
   "source": [
    "Select the features. "
   ]
  },
  {
   "cell_type": "code",
   "execution_count": null,
   "id": "495bfe31",
   "metadata": {},
   "outputs": [],
   "source": [
    "#X = data.drop(columns=[\"password\", \"strength\", \"cracking_time\"])\n",
    "#y = data[\"strength\"]\n",
    "X = data.drop(columns=[\"password\", \"strength\", \"length\", \"uppercase\", \"lowercase\", \"digits\", \"special\", \"consecutive_char_type_count\", \"cracking_time\"])\n",
    "y = data[\"strength\"]\n"
   ]
  },
  {
   "cell_type": "markdown",
   "id": "5fd98628",
   "metadata": {},
   "source": [
    "Perform undersampling."
   ]
  },
  {
   "cell_type": "code",
   "execution_count": null,
   "id": "d4099c73",
   "metadata": {},
   "outputs": [],
   "source": [
    "rus = RandomUnderSampler(random_state=42)\n",
    "X_resampled, y_resampled = rus.fit_resample(X, y)\n"
   ]
  },
  {
   "cell_type": "markdown",
   "id": "3bf1ecf1",
   "metadata": {},
   "source": [
    "Standarize the features."
   ]
  },
  {
   "cell_type": "code",
   "execution_count": null,
   "id": "c41e5f2d",
   "metadata": {},
   "outputs": [],
   "source": [
    "scaler = StandardScaler()\n",
    "X_resampled_scaled = scaler.fit_transform(X_resampled)\n"
   ]
  },
  {
   "cell_type": "markdown",
   "id": "c9f0e32a",
   "metadata": {},
   "source": [
    "Split the data into testing and training sets. "
   ]
  },
  {
   "cell_type": "code",
   "execution_count": null,
   "id": "aaa3d3af",
   "metadata": {},
   "outputs": [],
   "source": [
    "X_train, X_test, y_train, y_test = train_test_split(X_resampled_scaled, y_resampled, test_size=0.2, random_state=42)"
   ]
  },
  {
   "cell_type": "markdown",
   "id": "dc30010c",
   "metadata": {},
   "source": [
    "# Analysis of K-means"
   ]
  },
  {
   "cell_type": "markdown",
   "id": "1a6e0a56",
   "metadata": {},
   "source": [
    "Choose the optimal number of clusters (k) using the Elbow method. "
   ]
  },
  {
   "cell_type": "code",
   "execution_count": null,
   "id": "91e96bf3",
   "metadata": {},
   "outputs": [],
   "source": [
    "sse = []\n",
    "for k in range(1, 11):\n",
    "    kmeans = KMeans(n_clusters=k, random_state=42)\n",
    "    kmeans.fit(X_train)\n",
    "    sse.append(kmeans.inertia_)"
   ]
  },
  {
   "cell_type": "markdown",
   "id": "84d4d349",
   "metadata": {},
   "source": [
    "Plot the SSE for different values of k."
   ]
  },
  {
   "cell_type": "code",
   "execution_count": null,
   "id": "d6fa944a",
   "metadata": {},
   "outputs": [],
   "source": [
    "plt.plot(range(1, 11), sse, marker='o')\n",
    "plt.xlabel('Number of clusters')\n",
    "plt.ylabel('SSE')\n",
    "plt.title('Elbow Method')\n",
    "plt.savefig(\"Scree Plot\", dpi=300, bbox_inches='tight')\n",
    "plt.show()\n"
   ]
  },
  {
   "cell_type": "markdown",
   "id": "dd582b1f",
   "metadata": {},
   "source": [
    "# $k = 2$"
   ]
  },
  {
   "cell_type": "markdown",
   "id": "6ed563bd",
   "metadata": {},
   "source": [
    "Choose the optimal k based on the Elbow Method and fit the model"
   ]
  },
  {
   "cell_type": "code",
   "execution_count": null,
   "id": "2502b586",
   "metadata": {},
   "outputs": [],
   "source": [
    "optimal_k = 2  # Change this value based on the elbow point in the plot\n",
    "kmeans = KMeans(n_clusters=optimal_k, random_state=42)\n",
    "kmeans.fit(X_train)\n"
   ]
  },
  {
   "cell_type": "markdown",
   "id": "5e50855c",
   "metadata": {},
   "source": [
    "Analyze the distribution of zxcvbn classes within each cluster"
   ]
  },
  {
   "cell_type": "code",
   "execution_count": null,
   "id": "ebfd435c",
   "metadata": {},
   "outputs": [],
   "source": [
    "cluster_assignments = kmeans.predict(X_resampled_scaled)\n",
    "clusters_df = pd.DataFrame({'cluster': cluster_assignments, 'zxcvbn_class': y_resampled})\n",
    "clusters_summary = clusters_df.groupby(['cluster', 'zxcvbn_class']).size().unstack().fillna(0)\n",
    "print(clusters_summary)\n"
   ]
  },
  {
   "cell_type": "markdown",
   "id": "95d6eeeb",
   "metadata": {},
   "source": [
    "Visualize clusters using PCA"
   ]
  },
  {
   "cell_type": "code",
   "execution_count": null,
   "id": "e7aa5953",
   "metadata": {
    "scrolled": false
   },
   "outputs": [],
   "source": [
    "from sklearn.decomposition import PCA\n",
    "\n",
    "pca = PCA(n_components=2)\n",
    "X_pca = pca.fit_transform(X_resampled_scaled)\n",
    "\n",
    "plt.figure(figsize=(10, 6))\n",
    "for i in range(optimal_k):\n",
    "    cluster_points = X_pca[cluster_assignments == i]\n",
    "    plt.scatter(cluster_points[:, 0], cluster_points[:, 1], label=f'Cluster {i}')\n",
    "plt.xlabel('PCA 1')\n",
    "plt.ylabel('PCA 2')\n",
    "plt.legend()\n",
    "plt.title('K-Means Clusters Visualization using PCA')\n",
    "plt.savefig(\"Two Clusters\", dpi=300, bbox_inches='tight')\n",
    "plt.show()\n"
   ]
  },
  {
   "cell_type": "markdown",
   "id": "99b0f648",
   "metadata": {},
   "source": [
    "Examine cluster centroids and feature importance"
   ]
  },
  {
   "cell_type": "code",
   "execution_count": null,
   "id": "ce443407",
   "metadata": {},
   "outputs": [],
   "source": [
    "centroids = pd.DataFrame(kmeans.cluster_centers_, columns=['entropy', 'bigram_freq', 'trigram_freq', 'fourgram_freq', 'levenshtein_distance', 'char_repetition_weight_sum', 'most_common_char_type_count', 'char_frequency_ratio', 'password_length_ratio_to_unique'])\n",
    "print(centroids)\n"
   ]
  },
  {
   "cell_type": "markdown",
   "id": "b18d1c09",
   "metadata": {},
   "source": [
    "Step 6: Evaluate clustering quality with silhouette score and Davies-Bouldin Index"
   ]
  },
  {
   "cell_type": "code",
   "execution_count": null,
   "id": "3526b363",
   "metadata": {},
   "outputs": [],
   "source": [
    "sil_score = silhouette_score(X_resampled_scaled, cluster_assignments)\n",
    "db_score = davies_bouldin_score(X_resampled_scaled, cluster_assignments)\n"
   ]
  },
  {
   "cell_type": "code",
   "execution_count": null,
   "id": "1d9fcf11",
   "metadata": {},
   "outputs": [],
   "source": [
    "print(sil_score)\n",
    "print(db_score)\n"
   ]
  },
  {
   "cell_type": "markdown",
   "id": "53827d23",
   "metadata": {},
   "source": [
    "Make predictions."
   ]
  },
  {
   "cell_type": "code",
   "execution_count": null,
   "id": "ad3c3af3",
   "metadata": {},
   "outputs": [],
   "source": [
    "y_test_pred = kmeans.predict(X_test)"
   ]
  },
  {
   "cell_type": "code",
   "execution_count": null,
   "id": "bfeb29d8",
   "metadata": {},
   "outputs": [],
   "source": [
    "ari = adjusted_rand_score(y_test, y_test_pred)\n",
    "nmi = normalized_mutual_info_score(y_test, y_test_pred)\n",
    "ami = adjusted_mutual_info_score(y_test, y_test_pred)\n"
   ]
  },
  {
   "cell_type": "code",
   "execution_count": null,
   "id": "029f6aaf",
   "metadata": {},
   "outputs": [],
   "source": [
    "print(f\"Adjusted Rand Index: {ari:.4f}\")\n",
    "print(f\"Normalized Mutual Information: {nmi:.4f}\")\n",
    "print(f\"Adjusted Mutural Information: {ami:.4f}\")\n"
   ]
  },
  {
   "cell_type": "markdown",
   "id": "73fc8377",
   "metadata": {},
   "source": [
    "# $k = 4$"
   ]
  },
  {
   "cell_type": "code",
   "execution_count": null,
   "id": "c4ebaa3f",
   "metadata": {},
   "outputs": [],
   "source": [
    "optimal_k = 4  # Change this value based on the elbow point in the plot\n",
    "kmeans = KMeans(n_clusters=optimal_k, random_state=42)\n",
    "kmeans.fit(X_train)"
   ]
  },
  {
   "cell_type": "code",
   "execution_count": null,
   "id": "a97f4c14",
   "metadata": {},
   "outputs": [],
   "source": [
    "cluster_assignments = kmeans.predict(X_resampled_scaled)\n",
    "clusters_df = pd.DataFrame({'cluster': cluster_assignments, 'zxcvbn_class': y_resampled})\n",
    "clusters_summary = clusters_df.groupby(['cluster', 'zxcvbn_class']).size().unstack().fillna(0)\n",
    "print(clusters_summary)"
   ]
  },
  {
   "cell_type": "code",
   "execution_count": null,
   "id": "32dbb8a0",
   "metadata": {},
   "outputs": [],
   "source": [
    "from sklearn.decomposition import PCA\n",
    "\n",
    "pca = PCA(n_components=2)\n",
    "X_pca = pca.fit_transform(X_resampled_scaled)\n",
    "\n",
    "plt.figure(figsize=(10, 6))\n",
    "for i in range(optimal_k):\n",
    "    cluster_points = X_pca[cluster_assignments == i]\n",
    "    plt.scatter(cluster_points[:, 0], cluster_points[:, 1], label=f'Cluster {i}')\n",
    "plt.xlabel('PCA 1')\n",
    "plt.ylabel('PCA 2')\n",
    "plt.legend()\n",
    "plt.title('K-Means Clusters Visualization using PCA')\n",
    "plt.savefig(\"Four Clusters\", dpi=300, bbox_inches='tight')\n",
    "plt.show()\n"
   ]
  },
  {
   "cell_type": "markdown",
   "id": "aec3ee0e",
   "metadata": {},
   "source": [
    "Compute the centroids. "
   ]
  },
  {
   "cell_type": "code",
   "execution_count": null,
   "id": "6b840d4c",
   "metadata": {},
   "outputs": [],
   "source": [
    "centroids = pd.DataFrame(kmeans.cluster_centers_, columns=['entropy', 'bigram_freq', 'trigram_freq', 'fourgram_freq', 'levenshtein_distance', 'char_repetition_weight_sum', 'most_common_char_type_count', 'char_frequency_ratio', 'password_length_ratio_to_unique'])\n",
    "print(centroids)\n"
   ]
  },
  {
   "cell_type": "code",
   "execution_count": null,
   "id": "5517831c",
   "metadata": {},
   "outputs": [],
   "source": [
    "sil_score = silhouette_score(X_resampled_scaled, cluster_assignments)\n",
    "db_score = davies_bouldin_score(X_resampled_scaled, cluster_assignments)\n",
    "print(sil_score)\n",
    "print(db_score)"
   ]
  },
  {
   "cell_type": "markdown",
   "id": "ac237e66",
   "metadata": {},
   "source": [
    "Make predictions. "
   ]
  },
  {
   "cell_type": "code",
   "execution_count": null,
   "id": "f7bdd530",
   "metadata": {},
   "outputs": [],
   "source": [
    "y_test_pred = kmeans.predict(X_test)"
   ]
  },
  {
   "cell_type": "code",
   "execution_count": null,
   "id": "8f211ca9",
   "metadata": {},
   "outputs": [],
   "source": [
    "ari = adjusted_rand_score(y_test, y_test_pred)\n",
    "nmi = normalized_mutual_info_score(y_test, y_test_pred)\n",
    "ami = adjusted_mutual_info_score(y_test, y_test_pred)\n"
   ]
  },
  {
   "cell_type": "code",
   "execution_count": null,
   "id": "03aaf96b",
   "metadata": {},
   "outputs": [],
   "source": [
    "print(f\"Adjusted Rand Index: {ari:.4f}\")\n",
    "print(f\"Normalized Mutual Information: {nmi:.4f}\")\n",
    "print(f\"Adjusted Mutural Information: {ami:.4f}\")"
   ]
  },
  {
   "cell_type": "code",
   "execution_count": null,
   "id": "6eadf524",
   "metadata": {},
   "outputs": [],
   "source": []
  },
  {
   "cell_type": "code",
   "execution_count": null,
   "id": "de8167c9",
   "metadata": {},
   "outputs": [],
   "source": []
  },
  {
   "cell_type": "code",
   "execution_count": null,
   "id": "dbcd9ae6",
   "metadata": {},
   "outputs": [],
   "source": []
  },
  {
   "cell_type": "code",
   "execution_count": null,
   "id": "2ef4bee1",
   "metadata": {},
   "outputs": [],
   "source": []
  }
 ],
 "metadata": {
  "kernelspec": {
   "display_name": "Python 3 (ipykernel)",
   "language": "python",
   "name": "python3"
  },
  "language_info": {
   "codemirror_mode": {
    "name": "ipython",
    "version": 3
   },
   "file_extension": ".py",
   "mimetype": "text/x-python",
   "name": "python",
   "nbconvert_exporter": "python",
   "pygments_lexer": "ipython3",
   "version": "3.9.0"
  }
 },
 "nbformat": 4,
 "nbformat_minor": 5
}
